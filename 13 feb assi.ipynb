{
 "cells": [
  {
   "cell_type": "code",
   "execution_count": null,
   "id": "74a25b70-f2eb-445a-a2d3-326ab677b6ca",
   "metadata": {},
   "outputs": [],
   "source": [
    "Q1. Explain why we have to use the Exception class while creating a Custom Exception.\n",
    "Note: Here Exception class refers to the base class for all the exceptions."
   ]
  },
  {
   "cell_type": "code",
   "execution_count": null,
   "id": "764365a7-4e8d-4083-b7e4-3c3b34684ec5",
   "metadata": {},
   "outputs": [],
   "source": [
    "It’s OK to have a custom Exception subclass that only pass-es - your exception doesn’t need to do anything fancy to be useful. Ha\n",
    "ving custom exceptions - tailored to your specific use cases and that you \n",
    "can raise and catch in specific circumstances - can make your code much more readable \n",
    "and robust, and reduce the amount of code you write later to try and figure out what exactly went wrong."
   ]
  },
  {
   "cell_type": "code",
   "execution_count": null,
   "id": "ae695415-3d2f-4532-926b-96086679ee9e",
   "metadata": {},
   "outputs": [],
   "source": [
    "Q2. Write a python program to print Python Exception Hierarchy."
   ]
  },
  {
   "cell_type": "code",
   "execution_count": null,
   "id": "51ba9605-ddfe-47e0-9fbe-a4a4c9d8e792",
   "metadata": {},
   "outputs": [],
   "source": [
    "#There are many Built-in Exceptions in Python let’s try to print them out in a hierarchy.\n",
    "#For printing the tree hierarchy we will use inspect module in Python. \n",
    "#The inspect module provides useful functions to get information about objects such as modules, classes, methods, functions,  and code objects.\n",
    "\n",
    "#    For building a tree hierarchy we will use inspect.getclasstree().\n",
    "import inspect\n",
    "\n",
    "def treeClass(cls,ind=0):\n",
    "    print('_' *ind, cls.__name__)\n",
    "    for i in cls.__subclasses__():\n",
    "        treeClass(i,ind +  3)\n",
    "\n",
    "print(\"hiearchy for built in : \")\n",
    "\n",
    "inspect.getclasstree(inspect.getmro(BaseException))\n",
    "treeClass(BaseException)\n"
   ]
  },
  {
   "cell_type": "code",
   "execution_count": 9,
   "id": "57d60006-781e-46f4-9f9c-b19792ee20f5",
   "metadata": {},
   "outputs": [
    {
     "data": {
      "text/plain": [
       "['__cause__',\n",
       " '__class__',\n",
       " '__context__',\n",
       " '__delattr__',\n",
       " '__dict__',\n",
       " '__dir__',\n",
       " '__doc__',\n",
       " '__eq__',\n",
       " '__format__',\n",
       " '__ge__',\n",
       " '__getattribute__',\n",
       " '__getstate__',\n",
       " '__gt__',\n",
       " '__hash__',\n",
       " '__init__',\n",
       " '__init_subclass__',\n",
       " '__le__',\n",
       " '__lt__',\n",
       " '__ne__',\n",
       " '__new__',\n",
       " '__reduce__',\n",
       " '__reduce_ex__',\n",
       " '__repr__',\n",
       " '__setattr__',\n",
       " '__setstate__',\n",
       " '__sizeof__',\n",
       " '__str__',\n",
       " '__subclasshook__',\n",
       " '__suppress_context__',\n",
       " '__traceback__',\n",
       " 'add_note',\n",
       " 'args',\n",
       " 'with_traceback']"
      ]
     },
     "execution_count": 9,
     "metadata": {},
     "output_type": "execute_result"
    }
   ],
   "source": [
    "dir(Exception)"
   ]
  },
  {
   "cell_type": "code",
   "execution_count": null,
   "id": "31fae3a2-1e77-4637-81fa-1f04a961cdb2",
   "metadata": {},
   "outputs": [],
   "source": [
    "Q3. What errors are defined in the ArithmeticError class? Explain any two with an example."
   ]
  },
  {
   "cell_type": "code",
   "execution_count": null,
   "id": "ce8fe88f-f5e6-48be-92ed-5f3bab6b723f",
   "metadata": {},
   "outputs": [],
   "source": [
    "ArithmeticError\n",
    "--> ZeroDivisionError\n",
    "--> OverflowError\n",
    "--> FloatingPointError"
   ]
  },
  {
   "cell_type": "code",
   "execution_count": null,
   "id": "09bb7071-1579-49b2-9f99-4879ad192601",
   "metadata": {},
   "outputs": [],
   "source": [
    "Q4. Why LookupError class is used? Explain with an example KeyError and IndexError."
   ]
  },
  {
   "cell_type": "code",
   "execution_count": 3,
   "id": "f4c70782-f62f-4e8d-afc0-58b6302f1bdf",
   "metadata": {},
   "outputs": [
    {
     "name": "stdout",
     "output_type": "stream",
     "text": [
      "'key2'\n"
     ]
    }
   ],
   "source": [
    "LookupError(StandardError) is used as a base class for exceptions raised when a sequence or dictionary type doesn’t contain a given index or key.\n",
    "\n",
    "\n",
    "try:\n",
    "    d = { \"key\" : \"aditya\" , \"class\" : \"datasciece\"}\n",
    "    print(d[\"key2\"])\n",
    "except KeyError as e:\n",
    "    print(e)\n",
    "\n",
    "\n"
   ]
  },
  {
   "cell_type": "code",
   "execution_count": 6,
   "id": "985c3cd6-cc8b-4443-9423-aa283d41209f",
   "metadata": {},
   "outputs": [
    {
     "name": "stdout",
     "output_type": "stream",
     "text": [
      "list index out of range\n"
     ]
    }
   ],
   "source": [
    "try:\n",
    "    l=[1,2,3,4]\n",
    "    print(l[6])\n",
    "except IndexError as e:\n",
    "    print(e)"
   ]
  },
  {
   "cell_type": "code",
   "execution_count": null,
   "id": "fbc5e813-cd5b-4bcf-9568-416937f92061",
   "metadata": {},
   "outputs": [],
   "source": [
    "Q5. Explain ImportError. What is ModuleNotFoundError?"
   ]
  },
  {
   "cell_type": "code",
   "execution_count": 8,
   "id": "4e5853e8-550a-4329-bbcd-280df5315cea",
   "metadata": {},
   "outputs": [
    {
     "name": "stdout",
     "output_type": "stream",
     "text": [
      "No module named 'aditya'\n"
     ]
    }
   ],
   "source": [
    "\n",
    "\n",
    "try:\n",
    "    import aditya\n",
    "except ImportError as e:\n",
    "    print(e)"
   ]
  },
  {
   "cell_type": "code",
   "execution_count": null,
   "id": "4e5143ac-823f-4200-873c-29842855db58",
   "metadata": {},
   "outputs": [],
   "source": [
    "Q6. List down some best practices for exception handling in python."
   ]
  },
  {
   "cell_type": "code",
   "execution_count": null,
   "id": "32ad746d-bc16-4578-a321-6b0881078205",
   "metadata": {},
   "outputs": [],
   "source": [
    "#use always a specific exception\n",
    "try:\n",
    "    10/0\n",
    "except Exception as e:\n",
    "    print(e)"
   ]
  },
  {
   "cell_type": "code",
   "execution_count": 10,
   "id": "e9a5055a-d62e-4645-b220-5fdd35f92d15",
   "metadata": {},
   "outputs": [
    {
     "name": "stdout",
     "output_type": "stream",
     "text": [
      "i am trying to handle Zerodivision error division by zero\n"
     ]
    }
   ],
   "source": [
    "try:\n",
    "    10/0\n",
    "except ZeroDivisionError as e:\n",
    "    print(\"i am trying to handle Zerodivision error\",e)"
   ]
  },
  {
   "cell_type": "code",
   "execution_count": 11,
   "id": "3c53789c-4fac-42bf-abae-35911ca08be2",
   "metadata": {},
   "outputs": [],
   "source": [
    "#always try to log your error ,not print\n",
    "\n",
    "import logging\n",
    "logging.basicConfig(filename = \"error.log\" , level = logging.ERROR)\n",
    "try:\n",
    "    10/0\n",
    "except ZeroDivisionError as e:\n",
    "    logging.error(\"i am try to handle zero division error{} \".format(e))"
   ]
  },
  {
   "cell_type": "code",
   "execution_count": 12,
   "id": "5c6be3eb-9925-4c6b-b93a-dacd6c62fa94",
   "metadata": {},
   "outputs": [],
   "source": [
    "#always avoid multiple exception handling\n",
    "try:\n",
    "    10/0\n",
    "except FileNotFoundError as e:\n",
    "    logging.error(\"handling file not found {}\".format(e))\n",
    "except AttributeError as e:\n",
    "    logging.error(\"handling Attribute error {} \".format(e))\n",
    "except ZeroDivisionError as e:\n",
    "    logging.error(\"handle zero division error {} \".format(e))"
   ]
  },
  {
   "cell_type": "code",
   "execution_count": 13,
   "id": "728f6225-5167-47c6-b2cb-4840bf31edb4",
   "metadata": {},
   "outputs": [],
   "source": [
    "#document all the error\n",
    "#cleanup all the  resources\n",
    "\n",
    "try:\n",
    "    with open(\"test.txt\" ,'w') as f:\n",
    "        f.write(\"this is my data \")\n",
    "except FileNotFoundError as e:\n",
    "    logging.error(\"handling file not  found {} \".format(e) )\n",
    "finally:\n",
    "    f.close()"
   ]
  },
  {
   "cell_type": "code",
   "execution_count": null,
   "id": "c5b400db-e3d0-4fd6-b25d-7d54da8bf15f",
   "metadata": {},
   "outputs": [],
   "source": []
  }
 ],
 "metadata": {
  "kernelspec": {
   "display_name": "Python 3 (ipykernel)",
   "language": "python",
   "name": "python3"
  },
  "language_info": {
   "codemirror_mode": {
    "name": "ipython",
    "version": 3
   },
   "file_extension": ".py",
   "mimetype": "text/x-python",
   "name": "python",
   "nbconvert_exporter": "python",
   "pygments_lexer": "ipython3",
   "version": "3.12.0"
  }
 },
 "nbformat": 4,
 "nbformat_minor": 5
}
